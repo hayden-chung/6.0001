{
 "cells": [
  {
   "cell_type": "markdown",
   "id": "120f1240",
   "metadata": {},
   "source": [
    "# LEC2: Operators and operands; statements; branching, conditionals, and iteration\n",
    "Video Link: https://www.youtube.com/watch?v=0jljZRnHwOI&list=PLUl4u3cNGP63WbdFxL8giv4yhgdMGaZNA&index=5&t=3s"
   ]
  },
  {
   "cell_type": "markdown",
   "id": "db955ced",
   "metadata": {},
   "source": [
    "## 1. Primitive data - numbers & strings\n",
    "###  value & type: \n",
    "### Combinations of experssions: operands & operators \n",
    "### Ineterpreter (evaluator)-  a program inside a machine that evaluates and prints \n",
    "### Script (python word of saying program)- no print unless explicit \n",
    "### Type conversion: converting a value into a specific type to combine operands together "
   ]
  },
  {
   "cell_type": "markdown",
   "id": "375a0fc5",
   "metadata": {},
   "source": [
    "## 2. Type checking \n",
    "###   - Weak vs Strong typing (how much type checking it does)\n",
    "###   - Type discipline (must be disciplined about what types of arguments or operands you apply to operators)\n",
    "### Operator precedence: ** >> */ >> +- (when in doubt, use parentheses "
   ]
  },
  {
   "cell_type": "code",
   "execution_count": 5,
   "id": "78b765d6",
   "metadata": {},
   "outputs": [
    {
     "name": "stdout",
     "output_type": "stream",
     "text": [
      "23\n",
      "35\n"
     ]
    }
   ],
   "source": [
    "#e.g.\n",
    "print(3+4*5)\n",
    "print((3+4)*5)"
   ]
  },
  {
   "cell_type": "markdown",
   "id": "21cf39b7",
   "metadata": {},
   "source": [
    "## 3. Variable & values\n",
    "\n",
    "### Assignment example: x = 3*5\n",
    "### If there is a variable name (e.g. 'x') stored somewhere, a link is created where a pointer from that name 'x' to the value "
   ]
  },
  {
   "cell_type": "code",
   "execution_count": 6,
   "id": "43279758",
   "metadata": {},
   "outputs": [],
   "source": [
    "# e.g. \n",
    "x = 3*5 # The variable (assignment statement) is pointing to the value '15'\n",
    "y = 15 # The assignment statement points to the value 15, not x \n",
    "z = x # the statement points to the value 15, not x "
   ]
  },
  {
   "cell_type": "markdown",
   "id": "8e140a87",
   "metadata": {},
   "source": [
    "## Type of variable - inherits it from its value \n",
    "### dynamic type: type may change \n",
    "### e.g. x = 5 (int) --> x = 'abc' (str)\n",
    "### recommended: don't change types arbitrarily (randomly)"
   ]
  },
  {
   "cell_type": "markdown",
   "id": "d920e18c",
   "metadata": {},
   "source": [
    "## Statements = legal commands that python can interpret\n",
    "### - print, assignment "
   ]
  },
  {
   "cell_type": "markdown",
   "id": "7e53735f",
   "metadata": {},
   "source": [
    "### make comments on your program (using hastag). Even if the program is yours, it is hard to remember what they meant without commnets\n",
    "### make appropriate variable names. Rather than x or y, use 'first_name', 'second_name'\n"
   ]
  }
 ],
 "metadata": {
  "kernelspec": {
   "display_name": "Python 3",
   "language": "python",
   "name": "python3"
  },
  "language_info": {
   "codemirror_mode": {
    "name": "ipython",
    "version": 3
   },
   "file_extension": ".py",
   "mimetype": "text/x-python",
   "name": "python",
   "nbconvert_exporter": "python",
   "pygments_lexer": "ipython3",
   "version": "3.8.8"
  }
 },
 "nbformat": 4,
 "nbformat_minor": 5
}
