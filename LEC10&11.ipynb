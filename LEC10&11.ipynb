{
 "cells": [
  {
   "cell_type": "markdown",
   "id": "3f51ed21",
   "metadata": {},
   "source": [
    "# LEC10. Understanding Program Efficiency (part 1)\n",
    "Video Link: https://www.youtube.com/watch?v=o9nW0uBqvEo&list=PLUl4u3cNGP63WbdFxL8giv4yhgdMGaZNA&index=36"
   ]
  },
  {
   "cell_type": "markdown",
   "id": "84ded832",
   "metadata": {},
   "source": [
    "## Efficiency of Programs \n",
    "- A program can be implemented in many different ways \n",
    "- you can solve a problem using only a handful of different algorithms \n",
    "- would like to separate choices of implementation from choices of more abstract algorithm"
   ]
  },
  {
   "cell_type": "markdown",
   "id": "8d4691e6",
   "metadata": {},
   "source": [
    "## How to Evaluate Efficiency of Programs \n",
    "- Measure with a timer\n",
    "- Count the operations\n",
    "- Abstract notion of order of growth (preferred option) "
   ]
  },
  {
   "cell_type": "markdown",
   "id": "7eec9878",
   "metadata": {},
   "source": [
    "### Timing Program is Inconsistent \n",
    "##### GOAL: to evaluate different algorithms\n",
    "- running time varies beteween algorithms \n",
    "- running time varies between computers \n",
    "\n",
    "### Counting Operations \n",
    "##### GOAL: to evaluate different algorithms\n",
    "- count depends on algorithm \n",
    "- count depends on implementations\n",
    "- count independent of computers\n",
    "- no clear definition of which operations to count \n",
    "- no clear definitions of which operations to count \n",
    "- count varies for different inputs and can come up with a relationship between inputs and the count\n"
   ]
  },
  {
   "cell_type": "markdown",
   "id": "236cf5bb",
   "metadata": {},
   "source": [
    "# Big O notation \n",
    "- Describes how the time taken, or memory used, by a program scales with the amount of data it has to work on \n",
    "- Big Oh or O() is used to describe worst case\n",
    " - worst case occurs often and is the bottleneck when a program runs"
   ]
  },
  {
   "cell_type": "markdown",
   "id": "00c559cb",
   "metadata": {},
   "source": [
    "# LEC11. Understanding Program Efficiency (part 2)\n",
    "Video Link: https://www.youtube.com/watch?v=7lQXYl_L28w&list=PLUl4u3cNGP63WbdFxL8giv4yhgdMGaZNA&index=37"
   ]
  },
  {
   "cell_type": "markdown",
   "id": "e1259d5c",
   "metadata": {},
   "source": [
    "## Order of Growth: Recap \n",
    "- want to evaluate program's efficiency when input is very big \n",
    "- want tight upper bound on growth, as function of size of input, in worst case \n",
    "\n",
    "### Complexity Classes Ordered Low to High\n",
    "\n",
    " | Constant \n",
    " | Logarithmic\n",
    " | Linear\n",
    " | Log linear\n",
    " | Polynomial\n",
    " | Exponential \n",
    "- WORST CASE SCENARIO: Exponential growth\n",
    "- BEST CASE SCENARIO: Constant growth "
   ]
  },
  {
   "cell_type": "markdown",
   "id": "a790d8e7",
   "metadata": {},
   "source": [
    "### Bisection Search (Divide and Conque/r) \n",
    "- "
   ]
  }
 ],
 "metadata": {
  "kernelspec": {
   "display_name": "Python 3",
   "language": "python",
   "name": "python3"
  },
  "language_info": {
   "codemirror_mode": {
    "name": "ipython",
    "version": 3
   },
   "file_extension": ".py",
   "mimetype": "text/x-python",
   "name": "python",
   "nbconvert_exporter": "python",
   "pygments_lexer": "ipython3",
   "version": "3.8.8"
  }
 },
 "nbformat": 4,
 "nbformat_minor": 5
}
