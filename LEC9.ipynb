{
 "cells": [
  {
   "cell_type": "markdown",
   "id": "e8a8b9d7",
   "metadata": {},
   "source": [
    "# LEC9: Python Classes and Inheritance \n",
    "Video Link: https://www.youtube.com/watch?v=FlGjISF3l78&list=PLUl4u3cNGP63WbdFxL8giv4yhgdMGaZNA&index=33"
   ]
  },
  {
   "cell_type": "markdown",
   "id": "7b84d02b",
   "metadata": {},
   "source": [
    "## Implementing the class\n",
    "- define the class (object type)\n",
    "- define data attributes (What is the object)\n",
    "- define methods (ways to tell someone how to use the data type/object)\n",
    "\n",
    "## Using the class\n",
    "- using the new object type in code\n",
    "- create instances of the object type \n",
    "- do operations with them"
   ]
  },
  {
   "cell_type": "code",
   "execution_count": 17,
   "id": "8bef85ff",
   "metadata": {},
   "outputs": [
    {
     "name": "stdout",
     "output_type": "stream",
     "text": [
      "4\n",
      "5\n",
      "4\n"
     ]
    }
   ],
   "source": [
    "# GETTER AND SETTER METHODS\n",
    "class Animal (object):\n",
    "    def __init__(self, age):\n",
    "        self.age = age\n",
    "        self.name = None\n",
    "    def get_age(self):\n",
    "        return self.age\n",
    "    def get_name(self):\n",
    "        return self.name\n",
    "    def set_age(self, newage):\n",
    "        self.age = newage\n",
    "    def set_name(self, newname=\"\"):\n",
    "        self.name = newname\n",
    "        \n",
    "dog = Animal(4)\n",
    "\n",
    "age = dog.get_age()\n",
    "print(dog.age)\n",
    "dog.age = 5\n",
    "print(dog.age)\n",
    "print(age)"
   ]
  },
  {
   "cell_type": "markdown",
   "id": "623190a3",
   "metadata": {},
   "source": [
    "## Hierarchies\n",
    "\n",
    "## Parent Class (superclass)\n",
    "#####  Child Class (subclass)\n",
    "- inherits all data and behaviors of parent class\n",
    "- add more info\n",
    "- add more behavior\n",
    "- override behavior "
   ]
  },
  {
   "cell_type": "code",
   "execution_count": 25,
   "id": "7cd83046",
   "metadata": {},
   "outputs": [
    {
     "name": "stdout",
     "output_type": "stream",
     "text": [
      "meow\n",
      "as\n"
     ]
    }
   ],
   "source": [
    "class Cat(Animal):\n",
    "    def speak(self):\n",
    "        print(\"meow\")\n",
    "    def __str__(self):\n",
    "        return \"cat:\" +str(self.name) + \":\" +str(self.age)\n",
    "    \n",
    "cat1 = Cat(6)\n",
    "cat1.speak()\n",
    "str(cat1) "
   ]
  },
  {
   "cell_type": "code",
   "execution_count": null,
   "id": "c4155556",
   "metadata": {},
   "outputs": [],
   "source": []
  }
 ],
 "metadata": {
  "kernelspec": {
   "display_name": "Python 3",
   "language": "python",
   "name": "python3"
  },
  "language_info": {
   "codemirror_mode": {
    "name": "ipython",
    "version": 3
   },
   "file_extension": ".py",
   "mimetype": "text/x-python",
   "name": "python",
   "nbconvert_exporter": "python",
   "pygments_lexer": "ipython3",
   "version": "3.8.8"
  }
 },
 "nbformat": 4,
 "nbformat_minor": 5
}
