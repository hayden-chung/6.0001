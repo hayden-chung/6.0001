{
 "cells": [
  {
   "cell_type": "markdown",
   "id": "102c4b04",
   "metadata": {},
   "source": [
    "# 4. Decomposition, Abstraction, and Functions"
   ]
  },
  {
   "cell_type": "markdown",
   "id": "2985100e",
   "metadata": {},
   "source": [
    "### Functions: mechanism to acheive DECOMPOSITION and ABSTRACTION\n",
    "### Abstraction idea: Do not need to know how something works to use it \n",
    "### Decomposition idea: Different devices work together to achieve an end goal  "
   ]
  },
  {
   "cell_type": "markdown",
   "id": "b80fdb68",
   "metadata": {},
   "source": [
    "# Create Structure with DECOMPOSITION\n",
    "\n",
    "## In programming, divide code into 'modules'\n",
    "- used to break up code \n",
    "- intended to be 'reusable'\n",
    "- keep code 'organized'\n",
    "- keep code coherent"
   ]
  },
  {
   "cell_type": "markdown",
   "id": "3e53b07a",
   "metadata": {},
   "source": [
    "# Surpress details with ABSTRACTION"
   ]
  },
  {
   "cell_type": "markdown",
   "id": "1db69508",
   "metadata": {},
   "source": [
    "- cannot see details\n",
    "- do not need to see details\n",
    "- do not want to see details\n",
    "- hide tedious coding details"
   ]
  },
  {
   "cell_type": "markdown",
   "id": "eb3b2a66",
   "metadata": {},
   "source": [
    "# Functions: reusable pieces/chunks of code, called functions\n",
    "- has a name \n",
    "- has a paremeter (0 or more)\n",
    "- has a docstring (to achieve abstraction. tells other people how to use the function)"
   ]
  },
  {
   "cell_type": "markdown",
   "id": "688a9496",
   "metadata": {},
   "source": [
    "# Scope: mapping of names to objects \n",
    "### Local Scope: Variables are defined inside a function body. Local variables can only be accessed inside the function.\n",
    "### Global Scope: Variables defined outside. Global variables can be accessed through the program body. "
   ]
  },
  {
   "cell_type": "code",
   "execution_count": 2,
   "id": "b0b98041",
   "metadata": {},
   "outputs": [
    {
     "name": "stdout",
     "output_type": "stream",
     "text": [
      "2\n",
      "None\n"
     ]
    }
   ],
   "source": [
    "# Python returns the value 'none' if no return given \n",
    "# represents the absence of a value\n",
    "\n",
    "def no_return(i):\n",
    "    print(i)\n",
    "print(no_return(2))\n",
    "\n",
    "def yes_return(i):"
   ]
  },
  {
   "cell_type": "markdown",
   "id": "b41fd8e0",
   "metadata": {},
   "source": [
    "# ** Everything is an object (int, float, string, function) **"
   ]
  },
  {
   "cell_type": "code",
   "execution_count": null,
   "id": "8d8284c3",
   "metadata": {},
   "outputs": [],
   "source": []
  }
 ],
 "metadata": {
  "kernelspec": {
   "display_name": "Python 3",
   "language": "python",
   "name": "python3"
  },
  "language_info": {
   "codemirror_mode": {
    "name": "ipython",
    "version": 3
   },
   "file_extension": ".py",
   "mimetype": "text/x-python",
   "name": "python",
   "nbconvert_exporter": "python",
   "pygments_lexer": "ipython3",
   "version": "3.8.8"
  }
 },
 "nbformat": 4,
 "nbformat_minor": 5
}
