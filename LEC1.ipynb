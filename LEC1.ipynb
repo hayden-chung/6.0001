{
 "cells": [
  {
   "cell_type": "markdown",
   "id": "d9b5f252",
   "metadata": {},
   "source": [
    "# What is Computation?"
   ]
  },
  {
   "cell_type": "markdown",
   "id": "60f0dd39",
   "metadata": {},
   "source": [
    "## TYPES OF KNOWLEDGE:\n",
    "\n",
    "### Declarative knowledge: Statement of fact. e.g. someone will win a prize \n",
    "### - Telling the machine what is going to happen by making a statement \n",
    "\n",
    "### Impertative knowledge: the recipe or 'how-to'. e.g. picking a random person between 1 to the nth number\n",
    "### - How someone will win a prize \n",
    "\n",
    "### What is a recipe:\n",
    "#### - sequence of simple STEPS\n",
    "#### - FLOW OF CONTROL process that specifies when each step is executed \n",
    "#### - a means of determining WHEN TO STOP"
   ]
  },
  {
   "cell_type": "code",
   "execution_count": 1,
   "id": "036834c9",
   "metadata": {},
   "outputs": [
    {
     "data": {
      "text/plain": [
       "5"
      ]
     },
     "execution_count": 1,
     "metadata": {},
     "output_type": "execute_result"
    }
   ],
   "source": [
    "import random \n",
    "random.randint(1, 100)"
   ]
  },
  {
   "cell_type": "markdown",
   "id": "7ee1f202",
   "metadata": {},
   "source": [
    "## Fixed program computers (e.g. calculator): only knows how to do a limited number of tasks \n",
    "## Stored program computers: Can execute a sequence of instructions. Can do different types of tasks. \n"
   ]
  },
  {
   "cell_type": "markdown",
   "id": "8a16a405",
   "metadata": {},
   "source": [
    "# Basic Machine Architecture \n",
    "\n",
    "## 1. Memory: contains data, sequence of instructions\n",
    "## 2. Control Unit: contains a program counter. Gets the instruction and sends it to the ALU\n",
    "## 3. Arithemetic Logic Unit (ALU): Executes the operations\n",
    "## 4. Back to control unit: program counter increases by 1, indicating to continue to the next line of program. "
   ]
  },
  {
   "cell_type": "markdown",
   "id": "1cd33382",
   "metadata": {},
   "source": [
    "# Aspects of Languages \n",
    "## Syntax\n",
    "### English: \"cat dog boy\" --> not syntactically valid \n",
    "###                \"cat hugs boy\" --> syntactically valid \n",
    "\n",
    "### Programming Language: \"hi\" 5 --> not syntactically valid\n",
    "###                                             \"3.2*5\" --> syntactically valid \n",
    " \n",
    "\n",
    "## Static Symantics (is which syntactically valid strings have meaning)\n",
    "### English: \"I are hungry\" --> syntactically valid but static semantic error  \n",
    "\n",
    "### programming language: 3.2*5 --> syntactically valid \n",
    "###                                           3+\"hi\" --> static symantic error"
   ]
  },
  {
   "cell_type": "markdown",
   "id": "5470b59d",
   "metadata": {},
   "source": [
    "# Objects\n",
    "## programs manipulate data objects \n",
    "## All objects in python have a type which tells python what kind of actions it can do. \n",
    "\n",
    "## Two types of objects in python:\n",
    "### Scalar (cannot subdivided)\n",
    "### non-scalar (have internal structure that can  be accessed)\n",
    "\n",
    "## Scalar Objects\n",
    "### int - represent integers e.g. 5\n",
    "### float - represent real numbers e.g. 3.27\n",
    "### bool - represent Boolean values True and False\n",
    "### NoneType - special and has one value, None\n",
    "### can use type () to see the type of an object "
   ]
  },
  {
   "cell_type": "code",
   "execution_count": 3,
   "id": "c1c6deee",
   "metadata": {},
   "outputs": [
    {
     "data": {
      "text/plain": [
       "int"
      ]
     },
     "execution_count": 3,
     "metadata": {},
     "output_type": "execute_result"
    }
   ],
   "source": [
    "type(5)"
   ]
  },
  {
   "cell_type": "markdown",
   "id": "f211ece9",
   "metadata": {},
   "source": [
    "### Type conversion"
   ]
  },
  {
   "cell_type": "code",
   "execution_count": 8,
   "id": "41911604",
   "metadata": {},
   "outputs": [
    {
     "name": "stdout",
     "output_type": "stream",
     "text": [
      "<class 'int'>\n",
      "<class 'float'>\n"
     ]
    }
   ],
   "source": [
    "print(type(5))\n",
    "print(type(float(5)))"
   ]
  },
  {
   "cell_type": "markdown",
   "id": "bcf4f48c",
   "metadata": {},
   "source": [
    "## Binding Variables and Values\n",
    "\n",
    "### - Equal sign is an assignment of a value to a variable name \n",
    "pi = 3.14159\n",
    "### - Value stored in computer memory \n",
    "### - an assignment binds name to value "
   ]
  },
  {
   "cell_type": "code",
   "execution_count": null,
   "id": "75911356",
   "metadata": {},
   "outputs": [],
   "source": []
  }
 ],
 "metadata": {
  "kernelspec": {
   "display_name": "Python 3 (ipykernel)",
   "language": "python",
   "name": "python3"
  },
  "language_info": {
   "codemirror_mode": {
    "name": "ipython",
    "version": 3
   },
   "file_extension": ".py",
   "mimetype": "text/x-python",
   "name": "python",
   "nbconvert_exporter": "python",
   "pygments_lexer": "ipython3",
   "version": "3.9.7"
  }
 },
 "nbformat": 4,
 "nbformat_minor": 5
}
