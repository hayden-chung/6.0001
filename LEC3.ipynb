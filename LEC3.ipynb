{
 "cells": [
  {
   "cell_type": "markdown",
   "id": "2ebe4977",
   "metadata": {},
   "source": [
    "# LEC3: String Manipulation, Guess and Check, Approproximations, Bisection\n",
    "Video Link: https://www.youtube.com/watch?v=SE4P7IVCunE&list=PLUl4u3cNGP63WbdFxL8giv4yhgdMGaZNA&index=11"
   ]
  },
  {
   "cell_type": "code",
   "execution_count": 3,
   "id": "3b742329",
   "metadata": {},
   "outputs": [
    {
     "data": {
      "text/plain": [
       "3"
      ]
     },
     "execution_count": 3,
     "metadata": {},
     "output_type": "execute_result"
    }
   ],
   "source": [
    "s = 'abc'\n",
    "len(s)"
   ]
  },
  {
   "cell_type": "markdown",
   "id": "9f9cc7ba",
   "metadata": {},
   "source": [
    "## *Strings are immutable"
   ]
  },
  {
   "cell_type": "code",
   "execution_count": 4,
   "id": "e4648576",
   "metadata": {},
   "outputs": [],
   "source": [
    "# If s = 'abc' --> s = 'xyz', the variable is pointing at a completely different object. \n",
    "# The object 'abc' still remains in memory but s is not assigned to this object anymore. "
   ]
  },
  {
   "cell_type": "code",
   "execution_count": 11,
   "id": "0b6ecac1",
   "metadata": {},
   "outputs": [
    {
     "name": "stdout",
     "output_type": "stream",
     "text": [
      "There is an i or u\n",
      "There is an i or u\n"
     ]
    }
   ],
   "source": [
    "s = 'abcdefghi'\n",
    "\n",
    "# Both codes do the same thing\n",
    "\n",
    "for index in range (len(s)):\n",
    "    if s [index] == 'i' or s[index] == 'u':\n",
    "        print(f\"There is an i or u\")\n",
    "\n",
    "# However the bottom one is more pythonic (easier to read). \n",
    "for char in s:\n",
    "    if char == 'i' or char == 'u':\n",
    "        print(\"There is an i or u\")"
   ]
  },
  {
   "cell_type": "markdown",
   "id": "bc8dbf5b",
   "metadata": {},
   "source": [
    "##  Bisection Search (also used for binary search\n",
    "### Find the midpoint of the range \n",
    "### eliminate side that does not consist of the number\n",
    "### reapeat until number is found "
   ]
  },
  {
   "cell_type": "code",
   "execution_count": null,
   "id": "9e505afb",
   "metadata": {},
   "outputs": [],
   "source": []
  }
 ],
 "metadata": {
  "kernelspec": {
   "display_name": "Python 3",
   "language": "python",
   "name": "python3"
  },
  "language_info": {
   "codemirror_mode": {
    "name": "ipython",
    "version": 3
   },
   "file_extension": ".py",
   "mimetype": "text/x-python",
   "name": "python",
   "nbconvert_exporter": "python",
   "pygments_lexer": "ipython3",
   "version": "3.8.8"
  }
 },
 "nbformat": 4,
 "nbformat_minor": 5
}
