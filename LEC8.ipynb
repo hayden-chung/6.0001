{
 "cells": [
  {
   "cell_type": "markdown",
   "id": "dae55c1a",
   "metadata": {},
   "source": [
    "# LEC8: Object Oriented Programming (OOP)\n",
    "- EVERYTHING IN PYTHON IS AN OBJECT \n",
    "- can create, manipulate (append, remove, concatenate etc.), and destroy objects \n",
    "### Advantages of OOP\n",
    "- bundle data into packages together with procedures that work on the through well-defined interfaces \n",
    "- implement and test behavior of each class seperately (divide and conquer development)\n",
    "- classes make it easy to reuse code "
   ]
  },
  {
   "cell_type": "markdown",
   "id": "3c67ce7d",
   "metadata": {},
   "source": [
    " ## Attributes \n",
    " - data that belong in the class\n",
    " \n",
    " ### Data attributes \n",
    " - think of data as objects that make up the class\n",
    " \n",
    " ### Methods (procedural attributes)\n",
    " - think of methods as functions that only work with this class"
   ]
  },
  {
   "cell_type": "code",
   "execution_count": 1,
   "id": "2d3f9b47",
   "metadata": {},
   "outputs": [
    {
     "name": "stdout",
     "output_type": "stream",
     "text": [
      "3\n",
      "0\n"
     ]
    }
   ],
   "source": [
    "# DEFINING HOW TO CREATE AN INSTANCE OF A CLASS\n",
    "\n",
    "class coordinate (object):\n",
    "    def __init__(self, x, y): # use special method called __init__ to initialize some data attributes \n",
    "                              # double underscore (__) to create special method\n",
    "        self.x = x\n",
    "        self.y = y\n",
    "        \n",
    "# CREATING AN INSTANCE OF A CLASS\n",
    "c = coordinate(3, 4) # Create a new object \n",
    "origin = coordinate(0, 0)\n",
    "print(c.x) # use the dot to access an attribute (instance variables)\n",
    "print(origin.x)"
   ]
  },
  {
   "cell_type": "markdown",
   "id": "568c045a",
   "metadata": {},
   "source": [
    "### __str__ method\n",
    "- allows easy reading for outputs of class objects \n",
    "- can also be used as a debugging tool "
   ]
  },
  {
   "cell_type": "markdown",
   "id": "c4a23300",
   "metadata": {},
   "source": [
    "## Special Operators\n",
    "__add__(self, other) --> self + other\n",
    "__sub__(self, other) --> self - other\n",
    "__eq__(self, other) --> self == other\n",
    "_lt__ (self, other) --> self < other\n",
    "__len__(self) --> len(self)\n",
    "__str__(self) --> print self \n",
    "etc..."
   ]
  }
 ],
 "metadata": {
  "kernelspec": {
   "display_name": "Python 3",
   "language": "python",
   "name": "python3"
  },
  "language_info": {
   "codemirror_mode": {
    "name": "ipython",
    "version": 3
   },
   "file_extension": ".py",
   "mimetype": "text/x-python",
   "name": "python",
   "nbconvert_exporter": "python",
   "pygments_lexer": "ipython3",
   "version": "3.8.8"
  }
 },
 "nbformat": 4,
 "nbformat_minor": 5
}
