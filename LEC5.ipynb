{
 "cells": [
  {
   "cell_type": "markdown",
   "id": "a72762a3",
   "metadata": {},
   "source": [
    "# 5. Tuples, Lists, Aliasing, Mutability, and Cloning "
   ]
  },
  {
   "cell_type": "markdown",
   "id": "1594ebb0",
   "metadata": {},
   "source": [
    "## Tuples\n",
    "- an ordered sequence of elements, can mix element types\n",
    "- cannot change element values, immutable\n",
    "- represented with parentheses"
   ]
  },
  {
   "cell_type": "code",
   "execution_count": 7,
   "id": "870c4030",
   "metadata": {},
   "outputs": [
    {
     "data": {
      "text/plain": [
       "3"
      ]
     },
     "execution_count": 7,
     "metadata": {},
     "output_type": "execute_result"
    }
   ],
   "source": [
    "te = ()\n",
    "t = (2, \"mit\", 3)\n",
    "t[0] # 2\n",
    "(2, \"mit\", 3) + (5, 6) # (2, 'mit', 3, 5, 6)\n",
    "t[1:2] # ('mit',) **comma(,) indicates it is a tuple\n",
    "len(t) # 3\n",
    "t[1] = 4 # error, can't modify or mutate"
   ]
  },
  {
   "cell_type": "markdown",
   "id": "9709c786",
   "metadata": {},
   "source": [
    "## Lists \n",
    "- Lists are mutable \n",
    "- assigning to an element at an index changes the value\n",
    "- attributes of the object can change (e.g. one person may have many nicknames (attributes) which refer to that person.)"
   ]
  }
 ],
 "metadata": {
  "kernelspec": {
   "display_name": "Python 3",
   "language": "python",
   "name": "python3"
  },
  "language_info": {
   "codemirror_mode": {
    "name": "ipython",
    "version": 3
   },
   "file_extension": ".py",
   "mimetype": "text/x-python",
   "name": "python",
   "nbconvert_exporter": "python",
   "pygments_lexer": "ipython3",
   "version": "3.8.8"
  }
 },
 "nbformat": 4,
 "nbformat_minor": 5
}
