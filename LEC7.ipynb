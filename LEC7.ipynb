{
 "cells": [
  {
   "cell_type": "markdown",
   "id": "7a05cc3e",
   "metadata": {},
   "source": [
    "# LEC7. Testing, Debugging, Exceptions, and Assertions \n",
    "Video Link: https://www.youtube.com/watch?v=9H6muyZjms0&list=PLUl4u3cNGP63WbdFxL8giv4yhgdMGaZNA&index=23"
   ]
  },
  {
   "cell_type": "markdown",
   "id": "2d96b955",
   "metadata": {},
   "source": [
    "### Defensive programming\n",
    "- Modularize programs (produce things in seperate sections e.g. functions)\n",
    "- have test cases\n",
    "### Testing/Validation \n",
    "- Compare input/output pairs to specification \n",
    "\n",
    "### Debugging \n",
    "- Study events leading up to an error. \"Why is it not working?\""
   ]
  },
  {
   "cell_type": "markdown",
   "id": "2e388a70",
   "metadata": {},
   "source": [
    "## Classes of Tests\n",
    "\n",
    "### Unit testing \n",
    "- testing each function runs according to specifications \n",
    "\n",
    "### Regression testing \n",
    "- catch reintroduced errors that were previously fixed \n",
    "\n",
    "### Integration testing\n",
    "- take the code as a whole and test if the overall program works"
   ]
  },
  {
   "cell_type": "markdown",
   "id": "305ae465",
   "metadata": {},
   "source": [
    "## Testing Approaches \n",
    "\n",
    "### Intuition\n",
    "#### e.g. def is bigger(x, y): #Assumes x and y are ints and returns True if y is less than x, else False\n",
    "\n",
    "### Black box testing \n",
    "- Assuming you have the specifications from docstring (''' ''') and making test cases among that \n",
    "- Designed without looking at the code \n",
    "\n",
    "### Glass box testing \n",
    "- tries to test every single path of the code "
   ]
  },
  {
   "cell_type": "markdown",
   "id": "1ed430b0",
   "metadata": {},
   "source": [
    "## Debugging\n",
    "- Using the print statement to debug \n",
    "- Bisection method. Put print halfway in code \n",
    "\n",
    "### Debugging steps \n",
    "- study the program code\n",
    "- ask how the result took place"
   ]
  },
  {
   "cell_type": "code",
   "execution_count": 10,
   "id": "c8692e53",
   "metadata": {},
   "outputs": [
    {
     "name": "stdout",
     "output_type": "stream",
     "text": [
      "How old are you?18932fjsdf/\n",
      "Oops, must enter a number.\n"
     ]
    }
   ],
   "source": [
    "# EXCEPTIONS\n",
    "\n",
    "try:\n",
    "    n = int(input(\"How old are you?\"))\n",
    "    percent = round(n*100/80, 1)\n",
    "    print(\"You've gone through\", percent, \"% of your life\")\n",
    "except ValueError:\n",
    "        print(\"Oops, must enter a number.\")\n",
    "except ZeroDivisionError:\n",
    "        print(\"Division by zero\")\n",
    "except:\n",
    "        print(\"Something went very wrong.\")"
   ]
  },
  {
   "cell_type": "code",
   "execution_count": null,
   "id": "b021af1e",
   "metadata": {},
   "outputs": [],
   "source": []
  }
 ],
 "metadata": {
  "kernelspec": {
   "display_name": "Python 3",
   "language": "python",
   "name": "python3"
  },
  "language_info": {
   "codemirror_mode": {
    "name": "ipython",
    "version": 3
   },
   "file_extension": ".py",
   "mimetype": "text/x-python",
   "name": "python",
   "nbconvert_exporter": "python",
   "pygments_lexer": "ipython3",
   "version": "3.8.8"
  }
 },
 "nbformat": 4,
 "nbformat_minor": 5
}
