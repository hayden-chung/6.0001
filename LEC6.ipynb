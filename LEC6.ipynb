{
 "cells": [
  {
   "cell_type": "markdown",
   "id": "37a5e0de",
   "metadata": {},
   "source": [
    "# 6. Recursion and Dictionaries"
   ]
  },
  {
   "cell_type": "markdown",
   "id": "158c962c",
   "metadata": {},
   "source": [
    "# Recursion \n",
    "- Recursion is the process of repeating items in a self-similar way\n",
    "- Algorithmitically: A way to degin solutions to problems by 'divide-and-conquer' or decrease-and-conquer\n",
    "- Semantically: a programming technique where a function calls itself"
   ]
  },
  {
   "cell_type": "markdown",
   "id": "1a63694a",
   "metadata": {},
   "source": [
    "# EXAMPLE\n",
    "## Multiplication - Iterative Solution \n",
    "- \"multiply a*b\" is equivalent to \"add a to itself b times\""
   ]
  },
  {
   "cell_type": "code",
   "execution_count": 1,
   "id": "cef0b0bb",
   "metadata": {},
   "outputs": [
    {
     "data": {
      "text/plain": [
       "40"
      ]
     },
     "execution_count": 1,
     "metadata": {},
     "output_type": "execute_result"
    }
   ],
   "source": [
    "def mult_iter(a, b):\n",
    "    result = 0 \n",
    "    while b > 0: # Iteration\n",
    "        result += a # current value, a running sum\n",
    "        b -= 1 # current value of iteration variable\n",
    "    return result\n",
    "mult_iter(5, 8)"
   ]
  },
  {
   "cell_type": "markdown",
   "id": "09ebdf81",
   "metadata": {},
   "source": [
    "## Multiplication - Recursive Solution\n",
    "- Think how to reduce problem to a simpler/smaller version of same problem\n",
    "- base case: keep reducing problem until reach a simple case that can be solved directly "
   ]
  },
  {
   "cell_type": "code",
   "execution_count": 3,
   "id": "b90b9ad8",
   "metadata": {},
   "outputs": [
    {
     "data": {
      "text/plain": [
       "40"
      ]
     },
     "execution_count": 3,
     "metadata": {},
     "output_type": "execute_result"
    }
   ],
   "source": [
    "def mult(a, b):\n",
    "    if b == 1: # base case\n",
    "        return a \n",
    "    else: # recursive step\n",
    "        return a + mult(a, b-1)\n",
    "mult(5, 8)"
   ]
  },
  {
   "cell_type": "markdown",
   "id": "60ba969d",
   "metadata": {},
   "source": [
    "## SOME OBSERVATIONS\n",
    "- Each recursive call to a function creates its own scope/environment \n",
    "- bindings of variables in a scope are not chnaged by recursive call \n",
    "- using the same variable names but they are different 'objects' in seperate scopes "
   ]
  }
 ],
 "metadata": {
  "kernelspec": {
   "display_name": "Python 3 (ipykernel)",
   "language": "python",
   "name": "python3"
  },
  "language_info": {
   "codemirror_mode": {
    "name": "ipython",
    "version": 3
   },
   "file_extension": ".py",
   "mimetype": "text/x-python",
   "name": "python",
   "nbconvert_exporter": "python",
   "pygments_lexer": "ipython3",
   "version": "3.9.7"
  }
 },
 "nbformat": 4,
 "nbformat_minor": 5
}
