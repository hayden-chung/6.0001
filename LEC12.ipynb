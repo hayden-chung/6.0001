{
 "cells": [
  {
   "cell_type": "markdown",
   "id": "48d6e546",
   "metadata": {},
   "source": [
    "# 12. Searching and Sorting"
   ]
  },
  {
   "cell_type": "markdown",
   "id": "e10e0f2c",
   "metadata": {},
   "source": [
    "## Search algorithm\n",
    "\n",
    "#### Linear Search\n",
    "- Brute force\n",
    "- list does not have to be sorted"
   ]
  },
  {
   "cell_type": "code",
   "execution_count": 6,
   "id": "d6b1a9cd",
   "metadata": {},
   "outputs": [
    {
     "name": "stdout",
     "output_type": "stream",
     "text": [
      "True\n",
      "False\n"
     ]
    }
   ],
   "source": [
    "def linear_search(L, e): # L = list, e = value to search for\n",
    "    found = False\n",
    "    for i in range(len(L)):\n",
    "        if e == L[i]:\n",
    "            found = True \n",
    "    return found \n",
    "\n",
    "list1 = [1, 6, 2, 3, 7, 9, 8]\n",
    "print(linear_search(list1, 2))\n",
    "print(linear_search(list1, 0))"
   ]
  },
  {
   "cell_type": "markdown",
   "id": "f2078c8f",
   "metadata": {},
   "source": [
    "#### Bisection(binary) Search \n",
    "- List MUST be sorted to give correct answer \n",
    "- saw two different implementations of the algorithm"
   ]
  },
  {
   "cell_type": "markdown",
   "id": "d50a12cb",
   "metadata": {},
   "source": [
    "# Sort Algorithms\n",
    "- efficiently sorting a lsit of entries "
   ]
  },
  {
   "cell_type": "markdown",
   "id": "d94d433b",
   "metadata": {},
   "source": [
    "### Monkey(bogo) Sort (unbounded complexity)\n",
    "- randomly generating different premutations(arrangement) of an array and then checking if it's sorted or not\n",
    "\n",
    "e.g. to sort a deck of cards:\n",
    "1. throw them in the air\n",
    "2. pick them up\n",
    "3. are they sorted?\n",
    "4. repeat if not sorted \n",
    "\n",
    "- best case: O(n) where n is len(L) to check if sorted\n",
    "- worst case: O(?) it is unbounded if really unlucky "
   ]
  },
  {
   "cell_type": "markdown",
   "id": "0eccf809",
   "metadata": {},
   "source": [
    "### Bubble Sort  (quadratic complexity)\n",
    "\n",
    "- compare consecutive pairs of elements \n",
    "- swap elements if first is larger\n",
    "- when reach end of list start over again until no more swaps have been made\n",
    "\n",
    " \n",
    "- best case: O(n)\n",
    "- worst case: O(n^2)"
   ]
  },
  {
   "cell_type": "markdown",
   "id": "d7915ea6",
   "metadata": {},
   "source": [
    "### Selection Sort (quadratic complexity)\n",
    "\n",
    "e.g. sorting in order from smallest to largest \n",
    "\n",
    "step 1:\n",
    "- extract the first (doesn't matter which) value in the sublist \n",
    "- compare value with next element \n",
    "- if the the element is larger than the compared value, swap\n",
    "- repeat this until the remaining elements in sublist is compared\n",
    "\n",
    "step 2: \n",
    "- extract second element and repeat step number one\n",
    "\n",
    "continue comparing and swapping until list is sorted from smallest to largest. \n",
    "\n",
    "\n",
    "\n",
    "- best case/worst case: O(n^2)"
   ]
  },
  {
   "cell_type": "markdown",
   "id": "f19a1e4a",
   "metadata": {},
   "source": [
    "### Merge Sort (log-linear complexity)\n",
    "- most efficient \n",
    "- uses divide and conquer, break the problem down into smaller versions and bring the answers together \n",
    "\n",
    "1. if list of length 0 or 1, already sorted\n",
    "2. if list has more than one element, split into two lists, and sort each \n",
    "3. merge sorted sublists \n",
    "    1. look at first element of each, move smaller to end of the result\n",
    "    2. when one list empty, just copy rest of other list\n",
    "\n"
   ]
  },
  {
   "cell_type": "markdown",
   "id": "53f2b49e",
   "metadata": {},
   "source": [
    "### Sorting Sumarry\n",
    "\n",
    "- Bogo sort \n",
    "    - randomness, unbounded O()\n",
    "- bubble sort \n",
    "    - O(n^2)\n",
    "- selection sort \n",
    "    - O(n^2)\n",
    "    - guaranteed the first i elements were sorted \n",
    "- merge sort \n",
    "    - O(n log(n))\n",
    "- O(n log(n)) is the fastest a sort can be "
   ]
  },
  {
   "cell_type": "markdown",
   "id": "5816e479",
   "metadata": {},
   "source": [
    "# Overall Summary in 6.0001\n",
    "- represent knowledge with data structures (tuples, lists, dictionaries etc.)\n",
    "- computational metaphors (iterations, loops, recursion \n",
    "- abstraction (extract a computation and bury in a procedure)\n",
    "- organize and modularize systems using objects and classes \n",
    "- classes of algorithms and complexity \n",
    "\n",
    "#### 3 A'S:\n",
    "- abstraction\n",
    "    - operating multiple layers of abstraction \n",
    "- automation \n",
    "\n",
    "- algorithms \n",
    "    - allows abstraction of details\n",
    "    - language for communicating ideas & processes "
   ]
  },
  {
   "cell_type": "code",
   "execution_count": null,
   "id": "a1d52404",
   "metadata": {},
   "outputs": [],
   "source": []
  }
 ],
 "metadata": {
  "kernelspec": {
   "display_name": "Python 3",
   "language": "python",
   "name": "python3"
  },
  "language_info": {
   "codemirror_mode": {
    "name": "ipython",
    "version": 3
   },
   "file_extension": ".py",
   "mimetype": "text/x-python",
   "name": "python",
   "nbconvert_exporter": "python",
   "pygments_lexer": "ipython3",
   "version": "3.8.8"
  }
 },
 "nbformat": 4,
 "nbformat_minor": 5
}
